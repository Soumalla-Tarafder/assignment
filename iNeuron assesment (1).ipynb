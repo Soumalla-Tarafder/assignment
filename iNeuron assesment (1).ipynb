{
 "cells": [
  {
   "cell_type": "markdown",
   "id": "ec23a267",
   "metadata": {},
   "source": [
    "### 1. Create a function in python to read the text file and replace specific content\n",
    "of the file."
   ]
  },
  {
   "cell_type": "code",
   "execution_count": 2,
   "id": "3f64a5a3",
   "metadata": {},
   "outputs": [],
   "source": [
    "def replace(filename_without_txt,word_want_to_replace,with_which_want_to_replace):\n",
    "    z=filename_without_txt+'.txt'\n",
    "    f = open(z, \"r+\")\n",
    "    l = f.readlines()\n",
    "    x=word_want_to_replace\n",
    "    y=with_which_want_to_replace\n",
    "    for i in l:\n",
    "        if x in i:\n",
    "            Replacement = i.replace(x, y)\n",
    "            l = Replacement\n",
    "    f.truncate(0)\n",
    "    f.writelines(l)\n",
    "    f.close() \n",
    "\n",
    "    \n",
    "    \n",
    "    \n",
    "replace(\"example\",\"placement\",\"screening\")    "
   ]
  },
  {
   "cell_type": "markdown",
   "id": "fd7809c1",
   "metadata": {},
   "source": [
    "### 2.Demonstrate use of abstract class, multiple inheritance and decorator in\n",
    "python using examples."
   ]
  },
  {
   "cell_type": "code",
   "execution_count": null,
   "id": "27859f51",
   "metadata": {},
   "outputs": [],
   "source": [
    "Abstraction in Python is the process of hiding the real implementation of an application from \n",
    "the user and showing only the essential things to the user.\n",
    "ex:-if someone asked me to off the fan of our room,i simply go there and simply off the switch \n",
    "    instead of knowing that how the power will cur,how switch work,etc.\n",
    "    \n",
    "    \n",
    "    \n",
    "multiple inheritence a kind of inheritence where a new class inheriet the properties of more than\n",
    "one class.\n",
    "ex:- suppose there are two classes-human and employee. now if i want to make a class of i can \n",
    "    inherit both the preperties because a man is a child of human class as well as he/she has\n",
    "    the properties of an employee.\n",
    "    \n",
    "    \n",
    "    \n",
    "    \n",
    "decorator is a kind of function which take a another function as its argument.\n",
    "ex:- # def add(func)\n",
    "    "
   ]
  }
 ],
 "metadata": {
  "kernelspec": {
   "display_name": "Python 3 (ipykernel)",
   "language": "python",
   "name": "python3"
  },
  "language_info": {
   "codemirror_mode": {
    "name": "ipython",
    "version": 3
   },
   "file_extension": ".py",
   "mimetype": "text/x-python",
   "name": "python",
   "nbconvert_exporter": "python",
   "pygments_lexer": "ipython3",
   "version": "3.7.3"
  }
 },
 "nbformat": 4,
 "nbformat_minor": 5
}
